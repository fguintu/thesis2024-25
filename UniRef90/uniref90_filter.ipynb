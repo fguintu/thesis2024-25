{
 "cells": [
  {
   "cell_type": "code",
   "execution_count": 1,
   "metadata": {},
   "outputs": [
    {
     "name": "stdout",
     "output_type": "stream",
     "text": [
      "Number of proteins in the set: 617521\n"
     ]
    }
   ],
   "source": [
    "import pickle\n",
    "\n",
    "# Specify the input file path\n",
    "input_file = \"../Embeddings/all_prots_with_embeds.pkl\"\n",
    "\n",
    "# Read the binary file and convert it back to a set\n",
    "with open(input_file, \"rb\") as f:\n",
    "    large_set = pickle.load(f)\n",
    "\n",
    "print(\"Number of proteins in the set:\", len(large_set))"
   ]
  },
  {
   "cell_type": "code",
   "execution_count": 2,
   "metadata": {},
   "outputs": [
    {
     "name": "stderr",
     "output_type": "stream",
     "text": [
      "Loading proteins into DB: 100%|██████████| 192983315/192983315 [2:50:02<00:00, 18914.99it/s]  \n"
     ]
    }
   ],
   "source": [
    "import gzip\n",
    "import sqlite3\n",
    "from Bio import SeqIO\n",
    "from tqdm import tqdm\n",
    "\n",
    "# Step 1: Load the FASTA file into a SQLite database\n",
    "def load_fasta_to_db(fasta_gz_file, db_file):\n",
    "    conn = sqlite3.connect(db_file)\n",
    "    cursor = conn.cursor()\n",
    "    cursor.execute(\"CREATE TABLE IF NOT EXISTS proteins (id TEXT PRIMARY KEY, sequence TEXT)\")\n",
    "    \n",
    "    with gzip.open(fasta_gz_file, \"rt\") as fasta_in:\n",
    "        for record in tqdm(SeqIO.parse(fasta_in, \"fasta\"), desc = \"Loading proteins into DB\", total=192983315):\n",
    "            protein_id = record.id\n",
    "            sequence = str(record.seq)\n",
    "            cursor.execute(\"INSERT INTO proteins (id, sequence) VALUES (?, ?)\", (protein_id, sequence))\n",
    "    \n",
    "    conn.commit()\n",
    "    conn.close()\n",
    "\n",
    "load_fasta_to_db(\"uniref90.fasta.gz\", \"uniref90.db\")"
   ]
  },
  {
   "cell_type": "code",
   "execution_count": 7,
   "metadata": {},
   "outputs": [],
   "source": [
    "# remove the uniref90_ prefix from the protein IDs from the uniref90.db\n",
    "import sqlite3\n",
    "\n",
    "# Connect to the database\n",
    "conn = sqlite3.connect(\"uniref90.db\")\n",
    "cursor = conn.cursor()\n",
    "\n",
    "# Update the protein_id column to remove the 'UniRef90_' prefix\n",
    "cursor.execute(\"UPDATE proteins SET id = REPLACE(id, 'UniRef90_', '')\")\n",
    "\n",
    "# Commit the changes and close the connection\n",
    "conn.commit()\n",
    "conn.close()\n",
    "\n",
    "print(\"Prefix removed successfully from id\")\n"
   ]
  },
  {
   "cell_type": "code",
   "execution_count": null,
   "metadata": {},
   "outputs": [],
   "source": [
    "# print the first 5 rows of the proteins table\n",
    "import sqlite3\n",
    "\n",
    "# Connect to the database\n",
    "conn = sqlite3.connect(\"uniref90.db\")\n",
    "cursor = conn.cursor()\n",
    "\n",
    "# Select the first 5 rows from the proteins table\n",
    "cursor.execute(\"SELECT * FROM proteins LIMIT 5\")\n",
    "rows = cursor.fetchall()\n",
    "\n",
    "\n",
    "# Print the rows\n",
    "for row in rows:\n",
    "    print(row)\n",
    "\n",
    "# Close the connection\n",
    "conn.close()"
   ]
  },
  {
   "cell_type": "code",
   "execution_count": 3,
   "metadata": {},
   "outputs": [],
   "source": [
    "def load_ids_to_remove(id_file, db_file):\n",
    "    conn = sqlite3.connect(db_file)\n",
    "    cursor = conn.cursor()\n",
    "    cursor.execute(\"CREATE TABLE IF NOT EXISTS ids_to_remove (id TEXT PRIMARY KEY)\")\n",
    "    \n",
    "    with open(id_file, \"r\") as f:\n",
    "        for line in f:\n",
    "            protein_id = line.strip()\n",
    "            cursor.execute(\"INSERT OR IGNORE INTO ids_to_remove (id) VALUES (?)\", \n",
    "                           (protein_id,))\n",
    "    \n",
    "    conn.commit()\n",
    "    conn.close()"
   ]
  },
  {
   "cell_type": "code",
   "execution_count": null,
   "metadata": {},
   "outputs": [],
   "source": [
    "load_ids_to_remove(\"../Embeddings/all_prots_with_embeds.txt\", \"uniref90.db\")\n"
   ]
  }
 ],
 "metadata": {
  "kernelspec": {
   "display_name": "Python 3",
   "language": "python",
   "name": "python3"
  },
  "language_info": {
   "codemirror_mode": {
    "name": "ipython",
    "version": 3
   },
   "file_extension": ".py",
   "mimetype": "text/x-python",
   "name": "python",
   "nbconvert_exporter": "python",
   "pygments_lexer": "ipython3",
   "version": "3.12.2"
  }
 },
 "nbformat": 4,
 "nbformat_minor": 2
}
