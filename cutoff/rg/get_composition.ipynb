{
 "cells": [
  {
   "cell_type": "code",
   "execution_count": 1,
   "metadata": {},
   "outputs": [],
   "source": [
    "import sqlite3\n",
    "from collections import Counter\n",
    "import pandas as pd\n",
    "import numpy as np"
   ]
  },
  {
   "cell_type": "code",
   "execution_count": 2,
   "metadata": {},
   "outputs": [],
   "source": [
    "db_path = '../uniref90-10pm.db'\n",
    "conn = sqlite3.connect(db_path)\n",
    "\n",
    "query = \"\"\"\n",
    "SELECT sequence \n",
    "FROM uniref90 \n",
    "WHERE embedding IS NOT NULL;\n",
    "\"\"\""
   ]
  },
  {
   "cell_type": "code",
   "execution_count": 3,
   "metadata": {},
   "outputs": [],
   "source": [
    "# load the embedding data from the unshuffled sequences\n",
    "# ids are in ruseq.txt\n",
    "conn = sqlite3.connect('../uniref90-10pm.db')\n",
    "c = conn.cursor()\n",
    "\n",
    "# get the embeddings\n",
    "embeddings_unshuff = []\n",
    "with open('../rs/ruseq.txt') as f:\n",
    "    keys = f.read().splitlines()\n",
    "\n",
    "for key in keys:\n",
    "    c.execute('SELECT sequence FROM uniref90 WHERE name = ?', (key,))\n",
    "    embedding = c.fetchone()[0]\n",
    "    embeddings_unshuff.append(embedding)\n",
    "\n",
    "sequences = embeddings_unshuff\n",
    "conn.close()"
   ]
  },
  {
   "cell_type": "code",
   "execution_count": 3,
   "metadata": {},
   "outputs": [],
   "source": [
    "sequences_df = pd.read_sql_query(query, conn)\n",
    "\n",
    "conn.close()"
   ]
  },
  {
   "cell_type": "code",
   "execution_count": 4,
   "metadata": {},
   "outputs": [],
   "source": [
    "def calculate_composition(sequences):\n",
    "    amino_acids = 'ACDEFGHIKLMNPQRSTVWY'\n",
    "    total_count = Counter()\n",
    "    total_amino_acids = 0\n",
    "\n",
    "    # Count each amino acid in all sequences\n",
    "    for seq in sequences:\n",
    "        counts = Counter(seq)\n",
    "        total_count.update(counts)\n",
    "        total_amino_acids += len(seq)\n",
    "\n",
    "    # Calculate average composition\n",
    "    average_composition = {aa: (total_count[aa] / total_amino_acids) * 100 for aa in amino_acids}\n",
    "    return average_composition"
   ]
  },
  {
   "cell_type": "code",
   "execution_count": 6,
   "metadata": {},
   "outputs": [
    {
     "name": "stdout",
     "output_type": "stream",
     "text": [
      "Average Amino Acid Composition:\n",
      "A: 9.59%\n",
      "C: 1.14%\n",
      "D: 5.47%\n",
      "E: 6.26%\n",
      "F: 3.79%\n",
      "G: 7.49%\n",
      "H: 2.19%\n",
      "I: 5.42%\n",
      "K: 5.03%\n",
      "L: 9.83%\n",
      "M: 2.40%\n",
      "N: 3.67%\n",
      "P: 4.95%\n",
      "Q: 3.87%\n",
      "R: 5.77%\n",
      "S: 6.45%\n",
      "T: 5.49%\n",
      "V: 7.05%\n",
      "W: 1.24%\n",
      "Y: 2.90%\n"
     ]
    }
   ],
   "source": [
    "# Extract sequences as a list from the DataFrame\n",
    "# sequences = sequences_df['sequence'].tolist()\n",
    "\n",
    "# Calculate amino acid composition\n",
    "amino_acid_composition = calculate_composition(sequences)\n",
    "\n",
    "# Output the amino acid composition\n",
    "print(\"Average Amino Acid Composition:\")\n",
    "for aa, composition in amino_acid_composition.items():\n",
    "    print(f\"{aa}: {composition:.2f}%\")"
   ]
  },
  {
   "cell_type": "code",
   "execution_count": 7,
   "metadata": {},
   "outputs": [
    {
     "name": "stdout",
     "output_type": "stream",
     "text": [
      "{'A': 9.591721715049164, 'C': 1.1449300654286623, 'D': 5.465739355325985, 'E': 6.257062833830653, 'F': 3.7921159463410583, 'G': 7.488105830217343, 'H': 2.1891566368466076, 'I': 5.420823308281432, 'K': 5.0294529111034185, 'L': 9.826315081778676, 'M': 2.402293293204517, 'N': 3.670814010373604, 'P': 4.950778306407546, 'Q': 3.871934908923417, 'R': 5.769280284716243, 'S': 6.446740153515611, 'T': 5.4900569604138, 'V': 7.051819385994776, 'W': 1.2433448436664083, 'Y': 2.895797631751354}\n",
      "99.99828346317028\n"
     ]
    }
   ],
   "source": [
    "print(amino_acid_composition)\n",
    "print(sum(amino_acid_composition.values()))"
   ]
  },
  {
   "cell_type": "code",
   "execution_count": 8,
   "metadata": {},
   "outputs": [
    {
     "ename": "NameError",
     "evalue": "name 'sequences_df' is not defined",
     "output_type": "error",
     "traceback": [
      "\u001b[1;31m---------------------------------------------------------------------------\u001b[0m",
      "\u001b[1;31mNameError\u001b[0m                                 Traceback (most recent call last)",
      "Cell \u001b[1;32mIn[8], line 1\u001b[0m\n\u001b[1;32m----> 1\u001b[0m \u001b[38;5;28mprint\u001b[39m(\u001b[38;5;124m\"\u001b[39m\u001b[38;5;124maverage length:\u001b[39m\u001b[38;5;124m\"\u001b[39m, \u001b[43msequences_df\u001b[49m[\u001b[38;5;124m'\u001b[39m\u001b[38;5;124msequence\u001b[39m\u001b[38;5;124m'\u001b[39m]\u001b[38;5;241m.\u001b[39mstr\u001b[38;5;241m.\u001b[39mlen()\u001b[38;5;241m.\u001b[39mmean())\n",
      "\u001b[1;31mNameError\u001b[0m: name 'sequences_df' is not defined"
     ]
    },
    {
     "ename": "",
     "evalue": "",
     "output_type": "error",
     "traceback": [
      "\u001b[1;31mThe Kernel crashed while executing code in the current cell or a previous cell. \n",
      "\u001b[1;31mPlease review the code in the cell(s) to identify a possible cause of the failure. \n",
      "\u001b[1;31mClick <a href='https://aka.ms/vscodeJupyterKernelCrash'>here</a> for more info. \n",
      "\u001b[1;31mView Jupyter <a href='command:jupyter.viewOutput'>log</a> for further details."
     ]
    }
   ],
   "source": [
    "print(\"average length:\", sequences_df['sequence'].str.len().mean())"
   ]
  }
 ],
 "metadata": {
  "kernelspec": {
   "display_name": "code",
   "language": "python",
   "name": "python3"
  },
  "language_info": {
   "codemirror_mode": {
    "name": "ipython",
    "version": 3
   },
   "file_extension": ".py",
   "mimetype": "text/x-python",
   "name": "python",
   "nbconvert_exporter": "python",
   "pygments_lexer": "ipython3",
   "version": "3.12.2"
  }
 },
 "nbformat": 4,
 "nbformat_minor": 2
}
