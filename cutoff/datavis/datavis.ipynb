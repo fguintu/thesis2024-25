{
 "cells": [
  {
   "cell_type": "code",
   "execution_count": null,
   "metadata": {},
   "outputs": [],
   "source": [
    "import num"
   ]
  },
  {
   "cell_type": "code",
   "execution_count": null,
   "metadata": {},
   "outputs": [],
   "source": []
  },
  {
   "cell_type": "code",
   "execution_count": 1,
   "metadata": {},
   "outputs": [],
   "source": [
    "import os\n",
    "import tensorflow as tf\n",
    "from tensorboard.plugins import projector"
   ]
  },
  {
   "cell_type": "code",
   "execution_count": 10,
   "metadata": {},
   "outputs": [
    {
     "name": "stdout",
     "output_type": "stream",
     "text": [
      "The tensorboard extension is already loaded. To reload it, use:\n",
      "  %reload_ext tensorboard\n"
     ]
    },
    {
     "data": {
      "text/plain": [
       "Reusing TensorBoard on port 6006 (pid 12276), started 0:02:34 ago. (Use '!kill 12276' to kill it.)"
      ]
     },
     "metadata": {},
     "output_type": "display_data"
    },
    {
     "data": {
      "text/html": [
       "\n",
       "      <iframe id=\"tensorboard-frame-ede81df3ef6fefa0\" width=\"100%\" height=\"800\" frameborder=\"0\">\n",
       "      </iframe>\n",
       "      <script>\n",
       "        (function() {\n",
       "          const frame = document.getElementById(\"tensorboard-frame-ede81df3ef6fefa0\");\n",
       "          const url = new URL(\"http://localhost\");\n",
       "          const port = 6006;\n",
       "          if (port) {\n",
       "            url.port = port;\n",
       "          }\n",
       "          frame.src = url;\n",
       "        })();\n",
       "      </script>\n",
       "    "
      ],
      "text/plain": [
       "<IPython.core.display.HTML object>"
      ]
     },
     "metadata": {},
     "output_type": "display_data"
    }
   ],
   "source": [
    "# Define paths for the log directory, embeddings, and metadata\n",
    "log_dir = '/tmp/tensorboard-logs'  # You can set this to any directory\n",
    "embeddings_path = 'combined_embeddings.tsv'\n",
    "metadata_path = 'combined_metadata.tsv'\n",
    "\n",
    "# Create a log directory if it does not exist\n",
    "if not os.path.exists(log_dir):\n",
    "    os.makedirs(log_dir)\n",
    "\n",
    "# Load the embeddings\n",
    "embeddings = []\n",
    "with open(embeddings_path) as f:\n",
    "    for line in f:\n",
    "        embeddings.append([float(x) for x in line.strip().split('\\t')])\n",
    "\n",
    "# Create a TensorFlow variable for embeddings\n",
    "embedding_var = tf.Variable(embeddings, name='embeddings')\n",
    "\n",
    "# Create a checkpoint for TensorFlow\n",
    "checkpoint = tf.train.Checkpoint(embedding=embedding_var)\n",
    "checkpoint.save(os.path.join(log_dir, \"embedding.ckpt\"))\n",
    "\n",
    "# Set up the projector configuration\n",
    "config = projector.ProjectorConfig()\n",
    "embedding = config.embeddings.add()\n",
    "\n",
    "# Link the metadata file and the checkpoint to the embedding\n",
    "embedding.metadata_path = metadata_path\n",
    "embedding.tensor_name = \"embeddings\"\n",
    "\n",
    "# Save the projector configuration file\n",
    "projector.visualize_embeddings(log_dir, config)\n",
    "\n",
    "# Start TensorBoard with the projector plugin\n",
    "%load_ext tensorboard\n",
    "%tensorboard --logdir /tmp/tensorboard-logs\n"
   ]
  },
  {
   "cell_type": "code",
   "execution_count": 2,
   "metadata": {},
   "outputs": [
    {
     "data": {
      "text/plain": [
       "Reusing TensorBoard on port 6006 (pid 12276), started 0:14:23 ago. (Use '!kill 12276' to kill it.)"
      ]
     },
     "metadata": {},
     "output_type": "display_data"
    },
    {
     "data": {
      "text/html": [
       "\n",
       "      <iframe id=\"tensorboard-frame-e2ff46f1974773dd\" width=\"100%\" height=\"800\" frameborder=\"0\">\n",
       "      </iframe>\n",
       "      <script>\n",
       "        (function() {\n",
       "          const frame = document.getElementById(\"tensorboard-frame-e2ff46f1974773dd\");\n",
       "          const url = new URL(\"http://localhost\");\n",
       "          const port = 6006;\n",
       "          if (port) {\n",
       "            url.port = port;\n",
       "          }\n",
       "          frame.src = url;\n",
       "        })();\n",
       "      </script>\n",
       "    "
      ],
      "text/plain": [
       "<IPython.core.display.HTML object>"
      ]
     },
     "metadata": {},
     "output_type": "display_data"
    }
   ],
   "source": [
    "import os\n",
    "import numpy as np\n",
    "import tensorflow as tf\n",
    "from sklearn.decomposition import PCA\n",
    "from tensorboard.plugins import projector\n",
    "\n",
    "# Define paths for the log directory, embeddings, and metadata\n",
    "log_dir = '/tmp/tensorboard-logs'  # You can set this to any directory\n",
    "embeddings_path = 'combined_embeddings.tsv'\n",
    "metadata_path = 'combined_metadata.tsv'\n",
    "\n",
    "# Create a log directory if it does not exist\n",
    "if not os.path.exists(log_dir):\n",
    "    os.makedirs(log_dir)\n",
    "\n",
    "# Load the embeddings\n",
    "embeddings = []\n",
    "with open(embeddings_path) as f:\n",
    "    for line in f:\n",
    "        embeddings.append([float(x) for x in line.strip().split('\\t')])\n",
    "\n",
    "# Convert to NumPy array for PCA\n",
    "embeddings_np = np.array(embeddings)\n",
    "\n",
    "# Apply PCA without centering the data\n",
    "pca = PCA(n_components=50, whiten=False, svd_solver='auto')  # Modify n_components as needed\n",
    "pca_result = pca.fit_transform(embeddings_np)\n",
    "\n",
    "# Create a TensorFlow variable for the PCA result\n",
    "embedding_var = tf.Variable(pca_result, name='pca_embeddings')\n",
    "\n",
    "# Create a checkpoint for TensorFlow\n",
    "checkpoint = tf.train.Checkpoint(embedding=embedding_var)\n",
    "checkpoint.save(os.path.join(log_dir, \"embedding.ckpt\"))\n",
    "\n",
    "# Set up the projector configuration\n",
    "config = projector.ProjectorConfig()\n",
    "embedding = config.embeddings.add()\n",
    "\n",
    "# Link the metadata file and the checkpoint to the embedding\n",
    "embedding.metadata_path = metadata_path\n",
    "embedding.tensor_name = \"pca_embeddings\"  # Use PCA-processed embeddings\n",
    "\n",
    "# Save the projector configuration file\n",
    "projector.visualize_embeddings(log_dir, config)\n",
    "\n",
    "# Start TensorBoard with the projector plugin\n",
    "%load_ext tensorboard\n",
    "%tensorboard --logdir /tmp/tensorboard-logs\n"
   ]
  }
 ],
 "metadata": {
  "kernelspec": {
   "display_name": "Python 3",
   "language": "python",
   "name": "python3"
  },
  "language_info": {
   "codemirror_mode": {
    "name": "ipython",
    "version": 3
   },
   "file_extension": ".py",
   "mimetype": "text/x-python",
   "name": "python",
   "nbconvert_exporter": "python",
   "pygments_lexer": "ipython3",
   "version": "3.12.2"
  }
 },
 "nbformat": 4,
 "nbformat_minor": 2
}
