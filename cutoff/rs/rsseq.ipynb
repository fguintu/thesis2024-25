{
 "cells": [
  {
   "cell_type": "code",
   "execution_count": 1,
   "metadata": {},
   "outputs": [],
   "source": [
    "import sqlite3\n",
    "import h5py\n",
    "import numpy as np\n",
    "import matplotlib.pyplot as plt"
   ]
  },
  {
   "cell_type": "code",
   "execution_count": 2,
   "metadata": {},
   "outputs": [],
   "source": [
    "# load the embedding data from the unshuffled sequences\n",
    "# ids are in ruseq.txt\n",
    "conn = sqlite3.connect('../uniref90-10pm.db')\n",
    "c = conn.cursor()\n",
    "\n",
    "# get the embeddings\n",
    "embeddings_unshuff = []\n",
    "with open('ruseq10000.txt') as f:\n",
    "    keys = f.read().splitlines()\n",
    "\n",
    "for key in keys:\n",
    "    c.execute('SELECT embedding FROM uniref90 WHERE name = ?', (key,))\n",
    "    embedding = c.fetchone()[0]\n",
    "    if np.frombuffer(embedding, dtype=np.float16).shape[0] != 1024:\n",
    "        embeddings_unshuff.append(np.frombuffer(embedding, dtype=np.float32))\n",
    "    else:\n",
    "        embeddings_unshuff.append(np.frombuffer(embedding, dtype=np.float16))\n",
    "\n",
    "conn.close()"
   ]
  },
  {
   "cell_type": "code",
   "execution_count": 3,
   "metadata": {},
   "outputs": [],
   "source": [
    "embeddings_unshuff = np.array(embeddings_unshuff)"
   ]
  },
  {
   "cell_type": "code",
   "execution_count": 4,
   "metadata": {},
   "outputs": [
    {
     "name": "stdout",
     "output_type": "stream",
     "text": [
      "(10000, 1024)\n"
     ]
    }
   ],
   "source": [
    "# load the shuffled sequences\n",
    "# embedding data is in rss.h5\n",
    "\n",
    "embeddings_shuff = []\n",
    "\n",
    "with h5py.File('rss10000.h5', 'r') as f:\n",
    "    for key in f.keys():\n",
    "        embeddings_shuff.append(f[key][:])\n",
    "\n",
    "print(np.array(embeddings_shuff).shape)\n",
    "embeddings_shuff = np.array(embeddings_shuff)"
   ]
  },
  {
   "cell_type": "code",
   "execution_count": 5,
   "metadata": {},
   "outputs": [],
   "source": [
    "import pandas as pd\n",
    "\n",
    "# read third party embeddings from the tsv file\n",
    "df = pd.read_csv('../rg/sfiltered_nonredundant.tsv', sep='\\t')\n",
    "df1 = pd.read_csv('../rg/filtered_nonredundant.tsv', sep='\\t')\n",
    "\n",
    "# get the euclid sim and cosine sim from the columns\n",
    "# euclid_sim = df['embdd_eucld'].values\n",
    "cos_sim = df['embdd_cos'].values\n",
    "# euclid_sim1 = df1['embdd_eucld'].values\n",
    "cos_sim1 = df1['embdd_cos'].values"
   ]
  },
  {
   "cell_type": "code",
   "execution_count": 6,
   "metadata": {},
   "outputs": [],
   "source": [
    "# plot the norms of the embeddings on a histogram and a boxplot on the same plot\n",
    "\n",
    "# fig, ax = plt.subplots(1, 2, figsize=(10, 5))\n",
    "\n",
    "# plt.suptitle('Norm of embeddings, unshuffled vs shuffled')\n",
    "# ax[0].hist(np.linalg.norm(embeddings_unshuff, axis=1), bins=100, alpha=0.5, label='UniRef90')\n",
    "# ax[0].hist(np.linalg.norm(embeddings_shuff, axis=1), bins=100, alpha=0.5, label='shuffled')\n",
    "# ax[0].set_title('Histogram of norms')\n",
    "# ax[0].set_ylabel('Frequency')\n",
    "# ax[0].set_xlabel('Norm')\n",
    "# ax[0].legend()\n",
    "\n",
    "# ax[1].boxplot([np.linalg.norm(embeddings_unshuff, axis=1), np.linalg.norm(embeddings_shuff, axis=1)], labels=['UniRef90', 'shuffled'])\n",
    "# ax[1].set_title('Boxplot of norms')\n",
    "# ax[1].set_ylabel('Norm')\n",
    "# ax[1].set_xlabel('Dataset')\n",
    "\n",
    "# plt.show()"
   ]
  },
  {
   "cell_type": "code",
   "execution_count": 7,
   "metadata": {},
   "outputs": [],
   "source": [
    "# plot histograms of the embeddings euclidean similarities for unshuff - unshuff pairs and unshuff - shuff pairs\n",
    "# euclidean sim is 0.5 / (0.5 + euclidean distance)\n",
    "\n",
    "# from scipy.spatial.distance import euclidean\n",
    "import tqdm as tqdm\n",
    "\n",
    "# def euclidean_sim(a, b):\n",
    "#     return 0.5 / (0.5 + euclidean(a, b))\n",
    "\n",
    "# # unshuff - unshuff\n",
    "# sims_unshuff = []\n",
    "# sims_shuff = []\n",
    "# for i in tqdm.tqdm(range(embeddings_unshuff.shape[0]), total=embeddings_unshuff.shape[0]):\n",
    "#     for j in range(i+1, embeddings_unshuff.shape[0]):\n",
    "#         sims_unshuff.append(euclidean_sim(embeddings_unshuff[i], embeddings_unshuff[j]))\n",
    "#         sims_shuff.append(euclidean_sim(embeddings_unshuff[i], embeddings_shuff[j]))\n",
    "\n",
    "# plt.hist(sims_unshuff, bins=100, alpha=0.5, label='unshuff - unshuff')\n",
    "# plt.hist(sims_shuff, bins=100, alpha=0.5, label='unshuff - shuff')\n",
    "# plt.legend()\n",
    "# plt.show()"
   ]
  },
  {
   "cell_type": "code",
   "execution_count": 8,
   "metadata": {},
   "outputs": [],
   "source": [
    "# print unsuff - unshuff mean and std\n",
    "# print(np.mean(sims_unshuff), np.std(sims_unshuff))"
   ]
  },
  {
   "cell_type": "code",
   "execution_count": 9,
   "metadata": {},
   "outputs": [],
   "source": [
    "# do a t-test to see if the two distributions are different\n",
    "\n",
    "# from scipy.stats import ttest_ind\n",
    "\n",
    "# t, p = ttest_ind(sims_unshuff, sims_shuff)\n",
    "# print(t, p)"
   ]
  },
  {
   "cell_type": "code",
   "execution_count": 10,
   "metadata": {},
   "outputs": [
    {
     "name": "stderr",
     "output_type": "stream",
     "text": [
      "100%|██████████| 10000/10000 [11:55<00:00, 13.98it/s]\n"
     ]
    }
   ],
   "source": [
    "# cosine similarity\n",
    "# from sklearn.metrics.pairwise import cosine_similarity as cosine\n",
    "import numpy as np\n",
    "from numpy.linalg import norm\n",
    "\n",
    "# unshuff - unshuff\n",
    "sims_unshuff1 = []\n",
    "sims_shuff1 = []\n",
    "for i in tqdm.tqdm(range(embeddings_unshuff.shape[0]), total=embeddings_unshuff.shape[0]):\n",
    "    for j in range(i+1, embeddings_unshuff.shape[0]):\n",
    "        sims_unshuff1.append(np.dot(embeddings_unshuff[i], embeddings_unshuff[j]) / (norm(embeddings_unshuff[i]) * norm(embeddings_unshuff[j])))\n",
    "        sims_shuff1.append(np.dot(embeddings_unshuff[i], embeddings_shuff[j]) / (norm(embeddings_unshuff[i]) * norm(embeddings_shuff[j])))\n",
    "        # sims_unshuff1.append(cosine(embeddings_unshuff[i].reshape(1, -1), embeddings_unshuff[j].reshape(1, -1))[0][0])\n",
    "        # sims_shuff1.append(cosine(embeddings_unshuff[i].reshape(1, -1), embeddings_shuff[j].reshape(1, -1))[0][0])\n",
    "\n",
    "# plt.hist(sims_unshuff1, bins=100, alpha=0.5, label='unshuff - unshuff')\n",
    "# plt.hist(sims_shuff1, bins=100, alpha=0.5, label='unshuff - shuff')\n",
    "# plt.legend()\n",
    "# plt.show()"
   ]
  },
  {
   "cell_type": "code",
   "execution_count": null,
   "metadata": {},
   "outputs": [
    {
     "name": "stdout",
     "output_type": "stream",
     "text": [
      "Cutoff: 0.7700000000000005\n",
      "21612\n",
      "Unshuff - unshuff: 0.9516472330186934 Unshuff - shuff: 0.04835276698130668\n",
      "counts: 20567 1045\n"
     ]
    }
   ],
   "source": [
    "# find the cutoff where in the total data above the cutoff is 95% of the unshuffle - unshuff similarity and at most 5% of the unshuff - shuff similarity\n",
    "# sort the similarities\n",
    "sims_unshuff1 = np.array(sims_unshuff1)\n",
    "sims_shuff1 = np.array(sims_shuff1)\n",
    "\n",
    "# sort the similarities\n",
    "sims_unshuff1.sort()\n",
    "sims_shuff1.sort()\n",
    "\n",
    "# find the cutoff by trying a random value first then adjusting\n",
    "cutoff = 0\n",
    "threshold = [0.05, 0.1, 0.15, 0.2, 0.25, 0.3]\n",
    "\n",
    "# while True:\n",
    "#     total = np.sum(sims_unshuff1 >= cutoff) + np.sum(sims_shuff1 >= cutoff)\n",
    "#     if np.sum(sims_unshuff1 >= cutoff) / total >= (1 - threshold) and np.sum(sims_shuff1 >= cutoff) / total <= threshold:\n",
    "#         break\n",
    "#     else:\n",
    "#         cutoff += 0.01\n",
    "\n",
    "print('Cutoff:', cutoff)\n",
    "print(total)\n",
    "print('Unshuff - unshuff:', np.sum(sims_unshuff1 >= cutoff) / total, 'Unshuff - shuff:', np.sum(sims_shuff1 >= cutoff) / total)\n",
    "print('counts:', np.sum(sims_unshuff1 >= cutoff), np.sum(sims_shuff1 >= cutoff))"
   ]
  },
  {
   "cell_type": "code",
   "execution_count": 14,
   "metadata": {},
   "outputs": [
    {
     "data": {
      "image/png": "[encoded data removed]",
      "text/plain": [
       "<Figure size 1200x600 with 2 Axes>"
      ]
     },
     "metadata": {},
     "output_type": "display_data"
    }
   ],
   "source": [
    "# fig, axs = plt.subplots(1, 3, figsize=(18, 6))  # Create 1x3 subplots\n",
    "fig, axs = plt.subplots(1, 2, figsize=(12, 6))  # Create 1x3 subplots\n",
    "\n",
    "fig.suptitle('Randomly shuffled sequences vs UniRef90 sequences')\n",
    "\n",
    "# axs[0].boxplot([sims_shuff, sims_unshuff, euclid_sim, euclid_sim1], labels=['unshuff - shuff', 'unshuff - unshuff', 'praba-same-F', 'praba-diff-F'])\n",
    "# axs[0].set_title('Euclidean Similarity')\n",
    "# axs[0].set_ylabel('Similarity')\n",
    "\n",
    "# axs[1].hist(sims_unshuff, bins=100, alpha=0.5, label='unshuff - unshuff')\n",
    "# axs[1].hist(sims_shuff, bins=100, alpha=0.5, label='unshuff - shuff')\n",
    "# axs[1].hist(euclid_sim, bins=100, alpha=0.5, label='praba-same-F')\n",
    "# axs[1].hist(euclid_sim1, bins=100, alpha=0.5, label='praba-diff-F')\n",
    "# axs[1].set_title('Euclidean Similarity')\n",
    "# axs[1].legend(loc='upper right')\n",
    "# axs[1].set_xlabel('Similarity')\n",
    "# axs[1].set_ylabel('Frequency')\n",
    "\n",
    "# axs[0].boxplot([sims_shuff1, sims_unshuff1, cos_sim, cos_sim1], labels=['unshuff - shuff', 'unshuff - unshuff', 'praba-sim', 'praba-diff'])\n",
    "axs[0].boxplot([sims_unshuff1, sims_shuff1], labels=['real-real', 'real-t=shuffle'])\n",
    "# print cutoff line\n",
    "axs[0].axhline(y=cutoff, color='r', linestyle='--', label='Cutoff')\n",
    "axs[0].set_title('Cosine Similarity')\n",
    "axs[0].set_ylabel('Similarity')\n",
    "\n",
    "# axs[2].hist(sims_unshuff1, bins=100, alpha=0.5, label='unshuff - unshuff')\n",
    "# axs[2].hist(sims_shuff1, bins=100, alpha=0.5, label='unshuff - shuff')\n",
    "# axs[2].hist(cos_sim, bins=100, alpha=0.5, label='praba-sim')\n",
    "# axs[2].hist(cos_sim1, bins=100, alpha=0.5, label='praba-diff')\n",
    "# axs[2].set_title('Cosine Similarity')\n",
    "# axs[2].legend(loc='upper right')\n",
    "# axs[2].set_xlabel('Similarity')\n",
    "# axs[2].set_ylabel('Frequency')\n",
    "\n",
    "axs[1].hist(sims_unshuff1, bins=100, alpha=0.5, label='real-real')\n",
    "axs[1].hist(sims_shuff1, bins=100, alpha=0.5, label='real-t=shuffle')\n",
    "# axs[1].hist(cos_sim, bins=100, alpha=0.5, label='praba-sim')\n",
    "# axs[1].hist(cos_sim1, bins=100, alpha=0.5, label='praba-diff')\n",
    "# plot cutoff line\n",
    "axs[1].axvline(x=cutoff, color='r', linestyle='--', label='Cutoff')\n",
    "axs[1].set_title('Cosine Similarity')\n",
    "axs[1].legend(loc='upper right')\n",
    "axs[1].set_xlabel('Similarity')\n",
    "axs[1].set_ylabel('Frequency')\n",
    "\n",
    "plt.tight_layout()\n",
    "plt.show()"
   ]
  }
 ],
 "metadata": {
  "kernelspec": {
   "display_name": "Python 3",
   "language": "python",
   "name": "python3"
  },
  "language_info": {
   "codemirror_mode": {
    "name": "ipython",
    "version": 3
   },
   "file_extension": ".py",
   "mimetype": "text/x-python",
   "name": "python",
   "nbconvert_exporter": "python",
   "pygments_lexer": "ipython3",
   "version": "3.12.2"
  }
 },
 "nbformat": 4,
 "nbformat_minor": 2
}
