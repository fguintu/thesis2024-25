{
 "cells": [
  {
   "cell_type": "code",
   "execution_count": 1,
   "metadata": {},
   "outputs": [],
   "source": [
    "import sqlite3\n",
    "import h5py\n",
    "import numpy as np\n",
    "import matplotlib.pyplot as plt"
   ]
  },
  {
   "cell_type": "code",
   "execution_count": 2,
   "metadata": {},
   "outputs": [],
   "source": [
    "# get 499,500 sequences and save them to a text file\n",
    "# read uniref90-10pm.db and select 1000 random rows with non-null embeddings\n",
    "conn = sqlite3.connect('../uniref90-10pm.db')\n",
    "c = conn.cursor()\n",
    "c.execute('SELECT name, sequence FROM uniref90 WHERE LENGTH(sequence) < 1201 ORDER BY RANDOM() LIMIT 499500')\n",
    "rows = c.fetchall()\n",
    "conn.close()"
   ]
  },
  {
   "cell_type": "code",
   "execution_count": 3,
   "metadata": {},
   "outputs": [
    {
     "name": "stdout",
     "output_type": "stream",
     "text": [
      "<class 'str'>\n"
     ]
    }
   ],
   "source": [
    "# save the ids to a txt file\n",
    "print(type(rows[0][1]))\n",
    "with open('ruseq499500.txt', 'w') as f:\n",
    "    for row in rows:\n",
    "        f.write(row[0] + '\\n')"
   ]
  },
  {
   "cell_type": "code",
   "execution_count": 4,
   "metadata": {},
   "outputs": [],
   "source": [
    "# shuffle the sequences then save to a fasta file\n",
    "import random\n",
    "with open('rsseq499500.fasta', 'w') as f:\n",
    "    for i, row in enumerate(rows):\n",
    "        f.write('>' + str(i) + '\\n')\n",
    "        seq = list(row[1])\n",
    "        random.shuffle(seq)\n",
    "        f.write(''.join(seq) + '\\n')"
   ]
  }
 ],
 "metadata": {
  "kernelspec": {
   "display_name": "code",
   "language": "python",
   "name": "python3"
  },
  "language_info": {
   "codemirror_mode": {
    "name": "ipython",
    "version": 3
   },
   "file_extension": ".py",
   "mimetype": "text/x-python",
   "name": "python",
   "nbconvert_exporter": "python",
   "pygments_lexer": "ipython3",
   "version": "3.12.2"
  }
 },
 "nbformat": 4,
 "nbformat_minor": 2
}
