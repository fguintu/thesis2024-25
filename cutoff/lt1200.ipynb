{
 "cells": [
  {
   "cell_type": "code",
   "execution_count": 7,
   "metadata": {},
   "outputs": [],
   "source": [
    "import sqlite3"
   ]
  },
  {
   "cell_type": "code",
   "execution_count": 8,
   "metadata": {},
   "outputs": [],
   "source": [
    "conn = sqlite3.connect('uniref90-10pm.db')\n",
    "c = conn.cursor()"
   ]
  },
  {
   "cell_type": "code",
   "execution_count": 9,
   "metadata": {},
   "outputs": [],
   "source": [
    "# read the output5.h5 file and store the embeddings in the db\n",
    "import numpy as np\n",
    "import h5py\n",
    "\n",
    "# use c.executemany to insert the embeddings into the db. match the key then store the embedding.tobytes() in the db\n",
    "\n",
    "with h5py.File('output5.h5', 'r') as f:\n",
    "    keys = list(f.keys())\n",
    "    embeddings = ((f[key][()].tobytes(), key) for key in keys)\n",
    "\n",
    "    c.executemany(\"\"\"\n",
    "        UPDATE uniRef90 \n",
    "        SET embedding = ? \n",
    "        WHERE name = ?;\n",
    "    \"\"\", embeddings)\n",
    "\n",
    "conn.commit()\n",
    "conn.close()"
   ]
  }
 ],
 "metadata": {
  "kernelspec": {
   "display_name": "code",
   "language": "python",
   "name": "python3"
  },
  "language_info": {
   "codemirror_mode": {
    "name": "ipython",
    "version": 3
   },
   "file_extension": ".py",
   "mimetype": "text/x-python",
   "name": "python",
   "nbconvert_exporter": "python",
   "pygments_lexer": "ipython3",
   "version": "3.12.2"
  }
 },
 "nbformat": 4,
 "nbformat_minor": 2
}
