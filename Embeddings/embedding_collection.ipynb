{
 "cells": [
  {
   "cell_type": "code",
   "execution_count": 7,
   "metadata": {},
   "outputs": [],
   "source": [
    "# create a dict with all of the keys and embeddings as the values\n",
    "complete_dict = {}"
   ]
  },
  {
   "cell_type": "code",
   "execution_count": 8,
   "metadata": {},
   "outputs": [
    {
     "name": "stdout",
     "output_type": "stream",
     "text": [
      "UP000000589_10090per-protein.h5\n",
      "21749\n",
      "A0A075B5I0\n",
      "(1024,)\n",
      "<class 'numpy.ndarray'>\n"
     ]
    }
   ],
   "source": [
    "import h5py\n",
    "\n",
    "# Open the HDF5 file in read mode\n",
    "h5 = h5py.File(\"UP000000589_10090per-protein.h5\", 'r')\n",
    "# print filename\n",
    "print(h5.filename)\n",
    "\n",
    "# add to the dict the keys and their dataset as the value\n",
    "print(len(list(h5.keys())))\n",
    "for key in list(h5.keys()):\n",
    "    complete_dict[key] = h5[key][:]\n",
    "\n",
    "for key in complete_dict.keys():\n",
    "    print(key)\n",
    "    print(complete_dict[key].shape)\n",
    "    print(type(complete_dict[key]))\n",
    "    break\n",
    "\n",
    "# Close the file\n",
    "h5.close()\n"
   ]
  },
  {
   "cell_type": "code",
   "execution_count": 9,
   "metadata": {},
   "outputs": [
    {
     "name": "stdout",
     "output_type": "stream",
     "text": [
      "UP000000625_83333per-protein.h5\n",
      "4401\n",
      "A0A075B5I0\n",
      "(1024,)\n",
      "<class 'numpy.ndarray'>\n"
     ]
    }
   ],
   "source": [
    "# Open the HDF5 file in read mode\n",
    "h5 = h5py.File(\"UP000000625_83333per-protein.h5\", 'r')\n",
    "# print filename\n",
    "print(h5.filename)\n",
    "\n",
    "# add to the dict the keys and their dataset as the value\n",
    "print(len(list(h5.keys())))\n",
    "for key in list(h5.keys()):\n",
    "    complete_dict[key] = h5[key][:]\n",
    "\n",
    "for key in complete_dict.keys():\n",
    "    print(key)\n",
    "    print(complete_dict[key].shape)\n",
    "    print(type(complete_dict[key]))\n",
    "    break\n",
    "\n",
    "# Close the file\n",
    "h5.close()"
   ]
  },
  {
   "cell_type": "code",
   "execution_count": 10,
   "metadata": {},
   "outputs": [
    {
     "name": "stdout",
     "output_type": "stream",
     "text": [
      "UP000001940_6239per-protein.h5\n",
      "19823\n",
      "A0A075B5I0\n",
      "(1024,)\n",
      "<class 'numpy.ndarray'>\n"
     ]
    }
   ],
   "source": [
    "# Open the HDF5 file in read mode\n",
    "h5 = h5py.File(\"UP000001940_6239per-protein.h5\", 'r')\n",
    "# print filename\n",
    "print(h5.filename)\n",
    "\n",
    "# add to the dict the keys and their dataset as the value\n",
    "print(len(list(h5.keys())))\n",
    "for key in list(h5.keys()):\n",
    "    complete_dict[key] = h5[key][:]\n",
    "\n",
    "for key in complete_dict.keys():\n",
    "    print(key)\n",
    "    print(complete_dict[key].shape)\n",
    "    print(type(complete_dict[key]))\n",
    "    break\n",
    "\n",
    "# Close the file\n",
    "h5.close()\n"
   ]
  },
  {
   "cell_type": "code",
   "execution_count": 11,
   "metadata": {},
   "outputs": [
    {
     "name": "stdout",
     "output_type": "stream",
     "text": [
      "UP000002494_10116per-protein.h5\n",
      "22455\n",
      "A0A075B5I0\n",
      "(1024,)\n",
      "<class 'numpy.ndarray'>\n"
     ]
    }
   ],
   "source": [
    "# Open the HDF5 file in read mode\n",
    "h5 = h5py.File(\"UP000002494_10116per-protein.h5\", 'r')\n",
    "# print filename\n",
    "print(h5.filename)\n",
    "\n",
    "# add to the dict the keys and their dataset as the value\n",
    "print(len(list(h5.keys())))\n",
    "for key in list(h5.keys()):\n",
    "    complete_dict[key] = h5[key][:]\n",
    "\n",
    "for key in complete_dict.keys():\n",
    "    print(key)\n",
    "    print(complete_dict[key].shape)\n",
    "    print(type(complete_dict[key]))\n",
    "    break\n",
    "\n",
    "# Close the file\n",
    "h5.close()"
   ]
  },
  {
   "cell_type": "code",
   "execution_count": 12,
   "metadata": {},
   "outputs": [
    {
     "name": "stdout",
     "output_type": "stream",
     "text": [
      "UP000005640_9606per-protein.h5\n",
      "20651\n",
      "A0A075B5I0\n",
      "(1024,)\n",
      "<class 'numpy.ndarray'>\n"
     ]
    }
   ],
   "source": [
    "# Open the HDF5 file in read mode\n",
    "h5 = h5py.File(\"UP000005640_9606per-protein.h5\", 'r')\n",
    "# print filename\n",
    "print(h5.filename)\n",
    "\n",
    "# add to the dict the keys and their dataset as the value\n",
    "print(len(list(h5.keys())))\n",
    "for key in list(h5.keys()):\n",
    "    complete_dict[key] = h5[key][:]\n",
    "\n",
    "for key in complete_dict.keys():\n",
    "    print(key)\n",
    "    print(complete_dict[key].shape)\n",
    "    print(type(complete_dict[key]))\n",
    "    break\n",
    "\n",
    "# Close the file\n",
    "h5.close()"
   ]
  },
  {
   "cell_type": "code",
   "execution_count": 13,
   "metadata": {},
   "outputs": [
    {
     "name": "stdout",
     "output_type": "stream",
     "text": [
      "UP000006548_3702per-protein.h5\n",
      "27448\n",
      "A0A075B5I0\n",
      "(1024,)\n",
      "<class 'numpy.ndarray'>\n"
     ]
    }
   ],
   "source": [
    "# Open the HDF5 file in read mode\n",
    "h5 = h5py.File(\"UP000006548_3702per-protein.h5\", 'r')\n",
    "# print filename\n",
    "print(h5.filename)\n",
    "\n",
    "# add to the dict the keys and their dataset as the value\n",
    "print(len(list(h5.keys())))\n",
    "for key in list(h5.keys()):\n",
    "    complete_dict[key] = h5[key][:]\n",
    "\n",
    "for key in complete_dict.keys():\n",
    "    print(key)\n",
    "    print(complete_dict[key].shape)\n",
    "    print(type(complete_dict[key]))\n",
    "    break\n",
    "\n",
    "# Close the file\n",
    "h5.close()"
   ]
  },
  {
   "cell_type": "code",
   "execution_count": 14,
   "metadata": {},
   "outputs": [
    {
     "name": "stdout",
     "output_type": "stream",
     "text": [
      "UP000464024_2697049per-protein.h5\n",
      "17\n",
      "A0A075B5I0\n",
      "(1024,)\n",
      "<class 'numpy.ndarray'>\n"
     ]
    }
   ],
   "source": [
    "# Open the HDF5 file in read mode\n",
    "h5 = h5py.File(\"UP000464024_2697049per-protein.h5\", 'r')\n",
    "# print filename\n",
    "print(h5.filename)\n",
    "\n",
    "# add to the dict the keys and their dataset as the value\n",
    "print(len(list(h5.keys())))\n",
    "for key in list(h5.keys()):\n",
    "    complete_dict[key] = h5[key][:]\n",
    "\n",
    "for key in complete_dict.keys():\n",
    "    print(key)\n",
    "    print(complete_dict[key].shape)\n",
    "    print(type(complete_dict[key]))\n",
    "    break\n",
    "\n",
    "# Close the file\n",
    "h5.close()\n"
   ]
  },
  {
   "cell_type": "code",
   "execution_count": 15,
   "metadata": {},
   "outputs": [
    {
     "name": "stdout",
     "output_type": "stream",
     "text": [
      "uniprot_sprotper-protein.h5\n",
      "571853\n",
      "A0A075B5I0\n",
      "(1024,)\n",
      "<class 'numpy.ndarray'>\n"
     ]
    }
   ],
   "source": [
    "# Open the HDF5 file in read mode\n",
    "h5 = h5py.File(\"uniprot_sprotper-protein.h5\", 'r')\n",
    "# print filename\n",
    "print(h5.filename)\n",
    "\n",
    "# add to the dict the keys and their dataset as the value\n",
    "print(len(list(h5.keys())))\n",
    "for key in list(h5.keys()):\n",
    "    complete_dict[key] = h5[key][:]\n",
    "\n",
    "for key in complete_dict.keys():\n",
    "    print(key)\n",
    "    print(complete_dict[key].shape)\n",
    "    print(type(complete_dict[key]))\n",
    "    break\n",
    "\n",
    "# Close the file\n",
    "h5.close()"
   ]
  },
  {
   "cell_type": "code",
   "execution_count": 16,
   "metadata": {},
   "outputs": [
    {
     "name": "stdout",
     "output_type": "stream",
     "text": [
      "617521\n"
     ]
    }
   ],
   "source": [
    "print(len(complete_dict))"
   ]
  },
  {
   "cell_type": "code",
   "execution_count": 17,
   "metadata": {},
   "outputs": [
    {
     "name": "stdout",
     "output_type": "stream",
     "text": [
      "['A0A075B5I0', 'A0A075B5I2', 'A0A075B5J4', 'A0A075B5J6', 'A0A075B5J9']\n"
     ]
    }
   ],
   "source": [
    "# print first 5 keys\n",
    "print(list(complete_dict)[:5])"
   ]
  },
  {
   "cell_type": "code",
   "execution_count": 16,
   "metadata": {},
   "outputs": [],
   "source": [
    "output_file1 = \"all_prots_with_embeds.txt\"\n",
    "output_file2 = \"all_prots_with_embeds.pkl\" "
   ]
  },
  {
   "cell_type": "code",
   "execution_count": 17,
   "metadata": {},
   "outputs": [],
   "source": [
    "import pickle\n",
    "\n",
    "with open(output_file1, 'w') as f:\n",
    "    f.writelines(f\"{item}\\n\" for item in complete_dict)\n",
    "\n",
    "with open(output_file2, 'wb') as f:\n",
    "    pickle.dump(complete_dict, f)"
   ]
  },
  {
   "cell_type": "code",
   "execution_count": 19,
   "metadata": {},
   "outputs": [
    {
     "name": "stderr",
     "output_type": "stream",
     "text": [
      "389936it [01:35, 4071.57it/s]\n"
     ]
    }
   ],
   "source": [
    "import sqlite3\n",
    "from tqdm import tqdm\n",
    "import h5py\n",
    "\n",
    "conn = sqlite3.connect(\"../UniRef90/uniref90-matches.db\")\n",
    "cursor = conn.cursor()\n",
    "\n",
    "with h5py.File(\"all_prots_with_embeds.h5\", 'w') as h5f:\n",
    "    for row in tqdm(cursor.execute(\"SELECT clean_id, sequence FROM matching_proteins_to_remove\")):\n",
    "        dset = h5f.create_dataset(row[0], data=complete_dict[row[0]])\n",
    "        dset.attrs[\"sequence\"] = row[1]\n",
    "\n",
    "conn.close()\n"
   ]
  },
  {
   "cell_type": "code",
   "execution_count": 26,
   "metadata": {},
   "outputs": [
    {
     "name": "stdout",
     "output_type": "stream",
     "text": [
      "all_prots_with_embeds.h5\n",
      "389936\n",
      "A0A009IHW8\n",
      "(1024,)\n",
      "MSLEQKKGADIISKILQIQNSIGKTTSPSTLKTKLSEISRKEQENARIQSKLSDLQKKKIDIDNKLLKEKQNLIKEEILERKKLEVLTKKQQKDEIEHQKKLKREIDAIKASTQYITDVSISSYNNTIPETEPEYDLFISHASEDKEDFVRPLAETLQQLGVNVWYDEFTLKVGDSLRQKIDSGLRNSKYGTVVLSTDFIKKDWTNYELDGLVAREMNGHKMILPIWHKITKNDVLDYSPNLADKVALNTSVNSIEEIAHQLADVILNR\n"
     ]
    }
   ],
   "source": [
    "h5 = h5py.File(\"all_prots_with_embeds.h5\", 'r')\n",
    "print(h5.filename)\n",
    "print(len(h5.keys()))\n",
    "\n",
    "for key in h5.keys():\n",
    "    print(key)\n",
    "    print(h5[key].shape)\n",
    "    print(h5[key].attrs[\"sequence\"])\n",
    "    break\n",
    "\n",
    "h5.close()"
   ]
  }
 ],
 "metadata": {
  "kernelspec": {
   "display_name": "Python 3",
   "language": "python",
   "name": "python3"
  },
  "language_info": {
   "codemirror_mode": {
    "name": "ipython",
    "version": 3
   },
   "file_extension": ".py",
   "mimetype": "text/x-python",
   "name": "python",
   "nbconvert_exporter": "python",
   "pygments_lexer": "ipython3",
   "version": "3.12.2"
  }
 },
 "nbformat": 4,
 "nbformat_minor": 2
}
