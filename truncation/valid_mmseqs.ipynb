{
 "cells": [
  {
   "cell_type": "code",
   "execution_count": 9,
   "metadata": {},
   "outputs": [],
   "source": [
    "import pandas as pd\n",
    "\n",
    "# Specify the file paths\n",
    "keys_file_path = './10k_keys.tsv'\n",
    "result_pairs_file_path = './result_pairs.tsv'"
   ]
  },
  {
   "cell_type": "code",
   "execution_count": 10,
   "metadata": {},
   "outputs": [
    {
     "name": "stdout",
     "output_type": "stream",
     "text": [
      "          ID1         ID2\n",
      "0  A0A0N1EJ06      Q5E7K0\n",
      "1  A0A0N1EJ06      E5B8R7\n",
      "2  A0A0N1EJ06  A0A2T3JT06\n",
      "3  A0A428QWE2      B6GZ62\n",
      "4  A0A428QWE2      A7E602\n"
     ]
    }
   ],
   "source": [
    "# Load the keys file\n",
    "keys_df = pd.read_csv(keys_file_path, sep='\\t', header=None, names=['ID1', 'ID2'])\n",
    "\n",
    "print(keys_df.head())"
   ]
  },
  {
   "cell_type": "code",
   "execution_count": null,
   "metadata": {},
   "outputs": [],
   "source": [
    "def check_pairs_exist(keys_df, result_pairs_path):\n",
    "    # Read the result pairs file (first two columns only)\n",
    "    result_pairs_df = pd.read_csv(result_pairs_path, sep='\\t', header=None, usecols=[0, 1], names=['ID1', 'ID2'])\n",
    "\n",
    "    # Convert result pairs to sets of frozensets to make comparison order-independent\n",
    "    result_pairs_set = set(frozenset((row.ID1, row.ID2)) for _, row in result_pairs_df.iterrows())\n",
    "\n",
    "    # print first 5 rows of result_pairs_set\n",
    "    print(list(result_pairs_set)[:5])\n",
    "\n",
    "    # Check each pair in keys_df\n",
    "    for _, row in keys_df.iterrows():\n",
    "        pair = frozenset((row.ID1, row.ID2))\n",
    "        if pair not in result_pairs_set:\n",
    "            return f\"Missing pair: {row.ID1}, {row.ID2}\"\n",
    "\n",
    "    return \"All pairs exist.\"\n"
   ]
  },
  {
   "cell_type": "code",
   "execution_count": 12,
   "metadata": {},
   "outputs": [
    {
     "name": "stdout",
     "output_type": "stream",
     "text": [
      "[frozenset({'A0A074Y0Y1'}), frozenset({'A0A251YA76'}), frozenset({'S7VP71'}), frozenset({'P34982', 'A0A8D2CSY3'}), frozenset({'A0A9W4E1Z8', 'A0A117REV5'})]\n",
      "Missing pair: A0A0N1EJ06, Q5E7K0\n"
     ]
    }
   ],
   "source": [
    "# Run the check\n",
    "check_result = check_pairs_exist(keys_df, result_pairs_file_path)\n",
    "print(check_result)"
   ]
  },
  {
   "cell_type": "markdown",
   "metadata": {},
   "source": [
    "MVFTFIDSHCHFDFDPFKNNEVSYLQMAKDKGVTTLVVPSVNQSNWNHVSRLAHQFDEIYYALGIHPLFITPSYERELENLGELLDGKNKKCVAIGECGLDFWYPESDIETQISVFRQHCLLAKQHQLPLIVHSRKSHDMVLKLLREIQPERGGVIHGFSGSLQQANQFIDLGFYIGVGGVISYERAKKTKMVISQLPLDKIILETDAPDMPLFGFQGEKNSPDKVRNVFEYLSLIRKESMQTISETVYKNTTSLFGI\n",
    "\n",
    "MIKYDLHSHTTHSDGQLSVEQLLLRAVEKNIDVFAITDHDTIAAVKPAQAYIKNESLPLTLITGVEISTKWESFEIHIVALNVDINEEALTSLLTIQQQKRAARAIEIGRRLEKNGFDGIYEQAQELAGDAQITRAHYARALITRGVATTIPGVFKKYLGRAKTGYVPSDWCDMKTAITAIHAAGGVAVVAHPGRYQMSNKWLRKLLSQFKDAGGDAMEVAQPQQAPTERQFLGGLSREYGLLCSQGSDFHFPTSWLELGKNLYLPKDCQGVWQTWEGQEGVTHE"
   ]
  },
  {
   "cell_type": "markdown",
   "metadata": {},
   "source": [
    "#mmseqs search 10k 10k tmp/result tmp --min-seq-id 0 --alignment-mode 3 -e 1e6 --prefilter-mode 2\n",
    "# all are contained\n",
    "\n",
    "#mmseqs search 10k 10k tmp/result tmp --min-seq-id 0.0 --alignment-mode 3 -e 1e6 --prefilter-mode 2\n",
    "# Missing pair: A0A0N1EJ06, Q5E7K0, min seq id is probably not the way to go since there are probably ones that are low id but similar\n",
    "\n",
    "# turns out it's actually 0.0 seq id, so we need to try filter a different parameter\n",
    "\n",
    "search 10k 10k tmp/result tmp --min-seq-id 0 --alignment-mode 3 -e 10000 --prefilter-mode 2 --threads 32\n",
    "this somehow missed one\n",
    "\n",
    "search 10k 10k tmp/result tmp --min-seq-id 0.12 -s 7.5 --alignment-mode 0 -e 1e6 --prefilter-mode 2 --threads 32\n",
    "this has all, 99.99%\n",
    "\n",
    "it was about the alignment mode\n",
    "\n",
    "search 10k 10k tmp2/result tmp2 --min-seq-id 0.15 -s 7.5 --alignment-mode 0 -e 1e6 --prefilter-mode 2 --threads 32\n",
    "this missed first one\n"
   ]
  }
 ],
 "metadata": {
  "kernelspec": {
   "display_name": "Python 3",
   "language": "python",
   "name": "python3"
  },
  "language_info": {
   "codemirror_mode": {
    "name": "ipython",
    "version": 3
   },
   "file_extension": ".py",
   "mimetype": "text/x-python",
   "name": "python",
   "nbconvert_exporter": "python",
   "pygments_lexer": "ipython3",
   "version": "3.12.2"
  }
 },
 "nbformat": 4,
 "nbformat_minor": 2
}
