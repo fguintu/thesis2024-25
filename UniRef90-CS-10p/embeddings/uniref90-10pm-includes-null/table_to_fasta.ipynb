{
 "cells": [
  {
   "cell_type": "code",
   "execution_count": 4,
   "metadata": {},
   "outputs": [],
   "source": [
    "import sqlite3\n",
    "import tqdm\n",
    "\n",
    "def db_table_to_fasta(db_file, table_name, output_file):\n",
    "    conn = sqlite3.connect(db_file)\n",
    "    c = conn.cursor()\n",
    "    c.execute(\"SELECT * FROM %s\" % table_name)\n",
    "    with open(output_file, \"w\") as f:\n",
    "        for row in tqdm.tqdm(c.fetchall(), total=c.rowcount):\n",
    "            f.write(\">%s\\n\" % row[0])\n",
    "            f.write(\"%s\\n\" % row[1])\n",
    "    conn.close()"
   ]
  },
  {
   "cell_type": "code",
   "execution_count": 5,
   "metadata": {},
   "outputs": [
    {
     "name": "stderr",
     "output_type": "stream",
     "text": [
      "878099it [00:04, 177152.70it/s]\n"
     ]
    }
   ],
   "source": [
    "db_table_to_fasta(\"uniref90-10pm.db\", \"null_embeddings\", \"uniref90-10pm-ne.fasta\")"
   ]
  },
  {
   "cell_type": "code",
   "execution_count": 5,
   "metadata": {},
   "outputs": [
    {
     "name": "stdout",
     "output_type": "stream",
     "text": [
      "688311\n"
     ]
    }
   ],
   "source": [
    "import sqlite3\n",
    "conn = sqlite3.connect(\"sep1000.db\")\n",
    "c = conn.cursor()\n",
    "c.execute(\"SELECT COUNT(*) FROM sequences_le_1000 WHERE embedding IS NULL\")\n",
    "total_rows = c.fetchone()[0]\n",
    "print(total_rows)\n",
    "conn.close()"
   ]
  },
  {
   "cell_type": "code",
   "execution_count": 22,
   "metadata": {},
   "outputs": [],
   "source": [
    "conn.close()"
   ]
  }
 ],
 "metadata": {
  "kernelspec": {
   "display_name": "code",
   "language": "python",
   "name": "python3"
  },
  "language_info": {
   "codemirror_mode": {
    "name": "ipython",
    "version": 3
   },
   "file_extension": ".py",
   "mimetype": "text/x-python",
   "name": "python",
   "nbconvert_exporter": "python",
   "pygments_lexer": "ipython3",
   "version": "3.12.2"
  }
 },
 "nbformat": 4,
 "nbformat_minor": 2
}
