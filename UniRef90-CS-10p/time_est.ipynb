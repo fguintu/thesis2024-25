{
 "cells": [
  {
   "cell_type": "code",
   "execution_count": 5,
   "metadata": {},
   "outputs": [],
   "source": [
    "# 1000 embeddings of avg 18.97 length runs 168.54s\n",
    "# 1000 embeddings of avg 101 len runs 858.04s\n",
    "# 1000 embeddings of avg 1001.4 len runs 6847.78s\n",
    "\n",
    "import tqdm\n",
    "from Bio import SeqIO"
   ]
  },
  {
   "cell_type": "code",
   "execution_count": 6,
   "metadata": {},
   "outputs": [
    {
     "name": "stderr",
     "output_type": "stream",
     "text": [
      "Reading sequences:  83%|████████▎ | 697754/839408 [00:03<00:00, 208604.75sequences/s]\n"
     ]
    }
   ],
   "source": [
    "batches = [0, 0, 0, 0]\n",
    "for record in tqdm.tqdm(SeqIO.parse('./embeddings/uniref90-10pm-includes-null/uniref90-10pm-no-emb.fasta', 'fasta'), desc='Reading sequences', unit='sequences', total=839408):\n",
    "    if 10 <= len(record.seq) < 100:\n",
    "        batches[0] += 1\n",
    "    elif 100 <= len(record.seq) < 1000:\n",
    "        batches[1] += 1\n",
    "    elif 1000 <= len(record.seq) < 10000:\n",
    "        batches[2] += 1\n",
    "    else:\n",
    "        batches[3] += 1\n"
   ]
  },
  {
   "cell_type": "code",
   "execution_count": 7,
   "metadata": {},
   "outputs": [
    {
     "name": "stdout",
     "output_type": "stream",
     "text": [
      "batches: [43766, 653988, 0, 0]\n",
      "time0 at 0.1685s per sequence: 7374.571000000001\n",
      "time1 at 0.8580s per sequence: 561121.704\n",
      "time2 at 6.8578s per sequence: 0.0\n",
      "total time: 568496.275\n",
      "total time in hours: 157.91563194444444\n",
      "total time in days: 6.579817997685185\n"
     ]
    }
   ],
   "source": [
    "# estimate time to embed batches\n",
    "\n",
    "print('batches:', batches)\n",
    "\n",
    "time0 = batches[0] * 0.1685\n",
    "print('time0 at 0.1685s per sequence:', time0)\n",
    "time1 = batches[1] * 0.8580\n",
    "print('time1 at 0.8580s per sequence:', time1)\n",
    "time2 = batches[2] * 6.8578\n",
    "print('time2 at 6.8578s per sequence:', time2)\n",
    "print('total time:', time0 + time1)\n",
    "print('total time in hours:', (time0 + time1) / 3600)\n",
    "print('total time in days:', (time0 + time1) / 3600 / 24)"
   ]
  },
  {
   "cell_type": "code",
   "execution_count": 4,
   "metadata": {},
   "outputs": [
    {
     "name": "stdout",
     "output_type": "stream",
     "text": [
      "MKAFKEWLKQQRELNNLTQQQLAHKLGKPVQYIEDVEHGDYRLEVIEFIYYCQALNIDPHQGIRLIDLGPQKQNK\n",
      "76.42665580689349\n",
      "371.75362009446826\n",
      "1595.8378813644813\n"
     ]
    }
   ],
   "source": [
    "import numpy as np\n",
    "print(batches[0][0].seq)\n",
    "print(np.mean([len(record.seq) for record in batches[0]]))\n",
    "print(np.mean([len(record.seq) for record in batches[1]]))\n",
    "print(np.mean([len(record.seq) for record in batches[2]]))"
   ]
  },
  {
   "cell_type": "code",
   "execution_count": 9,
   "metadata": {},
   "outputs": [
    {
     "name": "stdout",
     "output_type": "stream",
     "text": [
      "total embeddings: 5358646\n",
      "total space used in MB: 21434.584\n",
      "total space used in GB: 20.9322109375\n"
     ]
    }
   ],
   "source": [
    "# total space used, 1000 embeddings = 4MB\n",
    "total =5358646\n",
    "print('total embeddings:', total)\n",
    "space_used = total / 1000 * 4\n",
    "print('total space used in MB:', space_used)\n",
    "print('total space used in GB:', space_used / 1024)  # 1GB = 1024MB"
   ]
  }
 ],
 "metadata": {
  "kernelspec": {
   "display_name": "code",
   "language": "python",
   "name": "python3"
  },
  "language_info": {
   "codemirror_mode": {
    "name": "ipython",
    "version": 3
   },
   "file_extension": ".py",
   "mimetype": "text/x-python",
   "name": "python",
   "nbconvert_exporter": "python",
   "pygments_lexer": "ipython3",
   "version": "3.12.2"
  }
 },
 "nbformat": 4,
 "nbformat_minor": 2
}
