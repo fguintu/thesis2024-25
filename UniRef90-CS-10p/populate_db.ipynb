{
 "cells": [
  {
   "cell_type": "code",
   "execution_count": 8,
   "metadata": {},
   "outputs": [],
   "source": [
    "import sqlite3\n",
    "import sys\n",
    "import os\n",
    "import time\n",
    "import numpy as np"
   ]
  },
  {
   "cell_type": "code",
   "execution_count": 9,
   "metadata": {},
   "outputs": [],
   "source": [
    "# ids.txt sample line >AFDB:AF-G4QHI8-F1 Uncharacterized protein UA=G4QHI8 UI=G4QHI8_GLANF OS=Glaciecola nitratireducens (strain JCM 12485 / KCTC 12276 / FR1064) OX=1085623 GN=GNIT_1865\n",
    "# protein_embeddings.npy\n",
    "\n",
    "# path example = /data/bromberg/database/afdb_prott5_embs/0-69/0/"
   ]
  },
  {
   "cell_type": "code",
   "execution_count": 10,
   "metadata": {},
   "outputs": [],
   "source": [
    "def populate_db_with_embeddings(db, path):\n",
    "    with open(path + 'ids.txt') as f:\n",
    "        ids = f.readlines()\n",
    "\n",
    "    for id in ids:\n",
    "        id = id.split('UA=')[1].split(' ')[0]\n",
    "        print(id)\n",
    "\n",
    "    embeddings = np.load(path + 'protein_embeddings.npy')\n",
    "\n",
    "    for i, id in enumerate(ids):\n",
    "        # if id is in the database, update the embedding\n",
    "        # if id is not in the database, do nothing\n",
    "        conn = sqlite3.connect(db)\n",
    "        c = conn.cursor()\n",
    "        c.execute(\"SELECT * FROM uniref90 WHERE id=?\", (id,))\n",
    "        result = c.fetchone()\n",
    "        if result:\n",
    "            c.execute(\"UPDATE uniref90 SET embedding=? WHERE id=?\", (embeddings[i], id))\n",
    "            conn.commit()\n",
    "        conn.close()\n"
   ]
  },
  {
   "cell_type": "code",
   "execution_count": null,
   "metadata": {},
   "outputs": [],
   "source": [
    "db = sys.argv[1]\n",
    "path = sys.argv[2]\n",
    "\n",
    "populate_db_with_embeddings(db, path)"
   ]
  }
 ],
 "metadata": {
  "kernelspec": {
   "display_name": "code",
   "language": "python",
   "name": "python3"
  },
  "language_info": {
   "codemirror_mode": {
    "name": "ipython",
    "version": 3
   },
   "file_extension": ".py",
   "mimetype": "text/x-python",
   "name": "python",
   "nbconvert_exporter": "python",
   "pygments_lexer": "ipython3",
   "version": "3.12.2"
  }
 },
 "nbformat": 4,
 "nbformat_minor": 2
}
