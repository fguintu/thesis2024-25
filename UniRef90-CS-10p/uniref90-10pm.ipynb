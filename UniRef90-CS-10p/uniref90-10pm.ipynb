{
 "cells": [
  {
   "cell_type": "code",
   "execution_count": 3,
   "metadata": {},
   "outputs": [],
   "source": [
    "import sqlite3\n",
    "from Bio import SeqIO\n",
    "import tqdm\n",
    "\n",
    "# Name: UniRef90_A0A009GMH1\n",
    "# Description: UniRef90_A0A009GMH1 Uncharacterized protein n=11 Tax=Acinetobacter TaxID=469 RepID=A0A009GMH1_9GAMM\n",
    "# Seq('MNIWWNIDIKDGVVSHDSISWIDDNFEINEDTVFDLSEDLLQISFNNNKILDVG...NNI')\n",
    "\n",
    "def fasta_to_db(input):\n",
    "    con = sqlite3.connect('uniref90-10pm.db')\n",
    "    cur = con.cursor()\n",
    "\n",
    "    # Create table if it doesn't exist\n",
    "    cur.execute('''\n",
    "        CREATE TABLE IF NOT EXISTS uniref90 (\n",
    "            name TEXT PRIMARY KEY,\n",
    "            sequence TEXT,\n",
    "            embedding BLOB\n",
    "        )\n",
    "    ''')\n",
    "\n",
    "    # Read the FASTA file\n",
    "    for record in tqdm.tqdm(SeqIO.parse(input, \"fasta\"), total=5358646):\n",
    "        # Insert the record into the database\n",
    "        cur.execute('''\n",
    "            INSERT INTO uniref90 (name, sequence, embedding)\n",
    "            VALUES (?, ?, ?)\n",
    "        ''', (record.id[9:], str(record.seq), None))\n",
    "\n",
    "    # Commit the changes and close the connection\n",
    "    con.commit()\n",
    "    con.close()\n"
   ]
  },
  {
   "cell_type": "code",
   "execution_count": 4,
   "metadata": {},
   "outputs": [
    {
     "name": "stderr",
     "output_type": "stream",
     "text": [
      "100%|██████████| 5358646/5358646 [00:57<00:00, 93681.19it/s] \n"
     ]
    }
   ],
   "source": [
    "fasta_to_db('uniref_count_10_TO_AND_identity_0_9_2024_09_07.fasta')"
   ]
  },
  {
   "cell_type": "code",
   "execution_count": 26,
   "metadata": {},
   "outputs": [],
   "source": [
    "from Bio import SeqIO\n",
    "import tqdm\n",
    "\n",
    "#get the shortest sequence in the fasta file\n",
    "def get_shortest_seq(file):\n",
    "    shortest_seq = ''\n",
    "    shortest_length = 1000000\n",
    "    for record in SeqIO.parse(file, 'fasta'):\n",
    "        if len(record.seq) < shortest_length:\n",
    "            shortest_seq = record.seq\n",
    "            shortest_length = len(record.seq)\n",
    "        if len(record.seq) == 11:\n",
    "            return str(record.seq)\n",
    "    return str(shortest_seq)\n",
    "\n",
    "sequence = get_shortest_seq('uniref_count_10_TO_AND_identity_0_9_2024_09_07.fasta')"
   ]
  },
  {
   "cell_type": "code",
   "execution_count": 27,
   "metadata": {},
   "outputs": [
    {
     "name": "stdout",
     "output_type": "stream",
     "text": [
      "EKDESEPEIRM\n",
      "['E K D E S E P E I R M']\n",
      "11\n"
     ]
    }
   ],
   "source": [
    "print(sequence)\n",
    "\n",
    "sequence_examples = [\" \".join(list(re.sub(r\"[UZOB]\", \"X\", sequence)))]\n",
    "print(sequence_examples)\n",
    "print(len(sequence))"
   ]
  },
  {
   "cell_type": "code",
   "execution_count": 28,
   "metadata": {},
   "outputs": [],
   "source": [
    "ids = tokenizer(sequence_examples, add_special_tokens=True, padding=\"longest\")\n",
    "input_ids = torch.tensor(ids['input_ids']).to(device)\n",
    "attention_mask = torch.tensor(ids['attention_mask']).to(device)"
   ]
  },
  {
   "cell_type": "code",
   "execution_count": 29,
   "metadata": {},
   "outputs": [
    {
     "name": "stdout",
     "output_type": "stream",
     "text": [
      "Time taken: 9.711489915847778\n"
     ]
    }
   ],
   "source": [
    "import time\n",
    "\n",
    "start = time.time()\n",
    "\n",
    "with torch.no_grad():\n",
    "    embedding_repr = model(input_ids=input_ids, attention_mask=attention_mask)\n",
    "\n",
    "end = time.time()\n",
    "\n",
    "print(\"Time taken:\", end-start)"
   ]
  },
  {
   "cell_type": "code",
   "execution_count": 30,
   "metadata": {},
   "outputs": [],
   "source": [
    "emb_0 = embedding_repr.last_hidden_state[0,:7] # shape (7 x 1024)\n",
    "\n",
    "# if you want to derive a single representation (per-protein embedding) for the whole protein\n",
    "emb_0_per_protein = emb_0.mean(dim=0) # shape (1024)"
   ]
  },
  {
   "cell_type": "code",
   "execution_count": null,
   "metadata": {},
   "outputs": [],
   "source": [
    "print(emb_0_per_protein)\n",
    "print(emb_0_per_protein.shape)"
   ]
  },
  {
   "cell_type": "code",
   "execution_count": 3,
   "metadata": {},
   "outputs": [],
   "source": [
    "# get a distribution of the lengths of the sequences in the fasta file and plot it\n",
    "# store key-value pairs of the form {sequence: length}\n",
    "import matplotlib.pyplot as plt\n",
    "import numpy as np\n",
    "import tqdm\n",
    "from Bio import SeqIO\n",
    "\n",
    "lengths = {}\n",
    "# for record in tqdm.tqdm(SeqIO.parse('uniref_count_10_TO_AND_identity_0_9_2024_09_07.fasta', 'fasta')):\n",
    "#     lengths[record.id[9:]] = len(record.seq)"
   ]
  },
  {
   "cell_type": "code",
   "execution_count": 10,
   "metadata": {},
   "outputs": [
    {
     "name": "stderr",
     "output_type": "stream",
     "text": [
      "Reading sequences: 100%|██████████| 5358646/5358646 [00:34<00:00, 157464.68sequences/s]\n"
     ]
    }
   ],
   "source": [
    "for record in tqdm.tqdm(SeqIO.parse('uniref_count_10_TO_AND_identity_0_9_2024_09_07.fasta', 'fasta'), desc='Reading sequences', unit='sequences', total=5358646):\n",
    "    if record.features != []:\n",
    "        print(record.features)\n",
    "        break"
   ]
  },
  {
   "cell_type": "code",
   "execution_count": 37,
   "metadata": {},
   "outputs": [
    {
     "name": "stdout",
     "output_type": "stream",
     "text": [
      "Number of sequences: 5358646\n",
      "Shortest sequence: 11\n",
      "Longest sequence: 37853\n",
      "Mean sequence length: 421.10678107865306\n",
      "Median sequence length: 331.0\n",
      "Standard deviation of sequence lengths: 415.21017050828937\n"
     ]
    },
    {
     "data": {
      "image/png": "[encoded data removed]",
      "text/plain": [
       "<Figure size 640x480 with 1 Axes>"
      ]
     },
     "metadata": {},
     "output_type": "display_data"
    }
   ],
   "source": [
    "# also print statistics\n",
    "print('Number of sequences:', len(lengths))\n",
    "print('Shortest sequence:', min(lengths.values()))\n",
    "print('Longest sequence:', max(lengths.values()))\n",
    "print('Mean sequence length:', np.mean(list(lengths.values())))\n",
    "print('Median sequence length:', np.median(list(lengths.values())))\n",
    "print('Standard deviation of sequence lengths:', np.std(list(lengths.values())))\n",
    "\n",
    "# plot it as sequence lengths 10, 100, 1000, 10000, 100000, 1000000\n",
    "# show exact numbers of how many sequences are in each bin\n",
    "# plot x-scale should start at 10\n",
    "bins = [10, 100, 1000, 10000, 100000]\n",
    "plt.hist(lengths.values(), bins, color='blue', edgecolor='black')\n",
    "plt.xscale('log')\n",
    "plt.yscale('log')\n",
    "plt.xlabel('Sequence length')\n",
    "plt.ylabel('Number of sequences')\n",
    "plt.xticks(bins, bins)\n",
    "currentbin = 0\n",
    "for i in range(len(bins)):\n",
    "    bincount = len([x for x in lengths.values() if x <= bins[i]])\n",
    "    plt.text(bins[i], 10, bincount-currentbin, verticalalignment='bottom')\n",
    "    currentbin = bincount\n",
    "plt.show()\n",
    "\n"
   ]
  },
  {
   "cell_type": "code",
   "execution_count": 2,
   "metadata": {},
   "outputs": [
    {
     "name": "stderr",
     "output_type": "stream",
     "text": [
      "Reading sequences: 100%|██████████| 5358646/5358646 [00:41<00:00, 129577.21sequences/s]\n"
     ]
    }
   ],
   "source": [
    "# get a good distributions of sequences in batches categorized by length to input into embedding generator, export to a file\n",
    "# 1000 sequences per bin\n",
    "import tqdm\n",
    "import h5py\n",
    "from Bio import SeqIO\n",
    "# get the sequences and their ids in the fasta file\n",
    "sequences = {}\n",
    "for record in tqdm.tqdm(SeqIO.parse('uniref_count_10_TO_AND_identity_0_9_2024_09_07.fasta', 'fasta'), desc='Reading sequences', unit='sequences', total=5358646):\n",
    "    sequences[record.id[9:]] = str(record.seq)\n",
    "# sort the sequences by length\n",
    "sequences = {k: v for k, v in sorted(sequences.items(), key=lambda item: len(item[1]))}"
   ]
  },
  {
   "cell_type": "code",
   "execution_count": 4,
   "metadata": {},
   "outputs": [
    {
     "name": "stdout",
     "output_type": "stream",
     "text": [
      "Number of sequences: 5358646\n",
      "A0A0A7EVS0 EKDESEPEIRM\n",
      "A0A0C5CHF9 MIRKQGISGPL\n",
      "A0A2Z1UDR3 RKQQAVYRIVA\n",
      "A0A5K0XC37 MVNPGPLTPGQ\n",
      "A0A5K0Z0F8 SEGSPSDAKNA\n",
      "A0A5K1CDI2 CYIYLSEGLAM\n",
      "A0A5K1CVY9 MATILDRENTT\n",
      "A0A5K1D2F7 MAQASEPNLPE\n",
      "A0A5K1D421 VVTEDMGVVKQ\n",
      "A0A5K1GP01 AKAEKEDPRNH\n"
     ]
    }
   ],
   "source": [
    "print('Number of sequences:', len(sequences))\n",
    "# print first 10\n",
    "for i, (k, v) in enumerate(sequences.items()):\n",
    "    print(k, v)\n",
    "    if i == 9:\n",
    "        break"
   ]
  },
  {
   "cell_type": "code",
   "execution_count": 5,
   "metadata": {},
   "outputs": [
    {
     "name": "stdout",
     "output_type": "stream",
     "text": [
      "37853\n"
     ]
    }
   ],
   "source": [
    "print(max([len(x) for x in sequences.values()]))"
   ]
  },
  {
   "cell_type": "code",
   "execution_count": null,
   "metadata": {},
   "outputs": [],
   "source": [
    "# get sequences in batches of 1000\n",
    "# save them to a file\n",
    "# batches should contain sequences of lengths 10-100, 100-1000, 1000-10000, 10000-100000\n",
    "\n",
    "batches = [[], [], [], []]\n",
    "\n",
    "for id, seq in sequences.items():\n",
    "    if 10 <= len(seq) <= 100 and len(batches[0]) < 1000:\n",
    "        batches[0].append((id, seq))\n",
    "        \n",
    "    elif 100 < len(seq) <= 1000 and len(batches[1]) < 1000:\n",
    "        batches[1].append((id, seq))\n",
    "        \n",
    "    elif 1000 < len(seq) <= 10000 and len(batches[2]) < 1000:\n",
    "        batches[2].append((id, seq))\n",
    "        \n",
    "    elif 10000 < len(seq) <= 100000 and len(batches[3]) < 1000:\n",
    "        batches[3].append((id, seq))\n",
    "        \n",
    "\n",
    "for batch in batches:\n",
    "    print(len(batch))\n",
    "    print(batch[:10])\n",
    "    print(max([len(x[1]) for x in batch]))\n"
   ]
  },
  {
   "cell_type": "code",
   "execution_count": 22,
   "metadata": {},
   "outputs": [],
   "source": [
    "# save the batches to their respective fasta files\n",
    "for i, batch in enumerate(batches):\n",
    "    with open(f'batch_{i}.fasta', 'w') as f:\n",
    "        for id, seq in batch:\n",
    "            f.write(f'>{id}\\n{seq}\\n')"
   ]
  },
  {
   "cell_type": "code",
   "execution_count": 24,
   "metadata": {},
   "outputs": [
    {
     "name": "stdout",
     "output_type": "stream",
     "text": [
      "ID: A0A0A7EVS0\n",
      "Name: A0A0A7EVS0\n",
      "Description: A0A0A7EVS0\n",
      "Number of features: 0\n",
      "Seq('EKDESEPEIRM')\n",
      "ID: A0A009HMQ2\n",
      "Name: A0A009HMQ2\n",
      "Description: A0A009HMQ2\n",
      "Number of features: 0\n",
      "Seq('MLEANKKLVYSGDEVLSVLQEIEFILISLHKIGSYYAETLPNSYEEYAKETTNF...ARK')\n",
      "ID: A0A031IK42\n",
      "Name: A0A031IK42\n",
      "Description: A0A031IK42\n",
      "Number of features: 0\n",
      "Seq('MRPERLTLRAFGPFAGEETIDFTALAGRTMFVISGNTGAGKTTIFDALTFALYG...VVE')\n",
      "ID: UPI002FE4D26F\n",
      "Name: UPI002FE4D26F\n",
      "Description: UPI002FE4D26F\n",
      "Number of features: 0\n",
      "Seq('MDYSSFTGAPRFLTRPKAFMMSVGKDASLSCQIIGNPIPMVTWEKDKLPIMSGG...PRQ')\n"
     ]
    }
   ],
   "source": [
    "# check if the files are saved correctly\n",
    "for i in range(4):\n",
    "    for record in SeqIO.parse(f'batch_{i}.fasta', 'fasta'):\n",
    "        print(record)\n",
    "        break"
   ]
  }
 ],
 "metadata": {
  "kernelspec": {
   "display_name": "code",
   "language": "python",
   "name": "python3"
  },
  "language_info": {
   "codemirror_mode": {
    "name": "ipython",
    "version": 3
   },
   "file_extension": ".py",
   "mimetype": "text/x-python",
   "name": "python",
   "nbconvert_exporter": "python",
   "pygments_lexer": "ipython3",
   "version": "3.12.2"
  }
 },
 "nbformat": 4,
 "nbformat_minor": 2
}
